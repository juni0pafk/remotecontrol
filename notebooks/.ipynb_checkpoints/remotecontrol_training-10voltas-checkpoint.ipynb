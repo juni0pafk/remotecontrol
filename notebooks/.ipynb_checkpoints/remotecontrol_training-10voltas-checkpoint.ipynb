{
 "cells": [
  {
   "cell_type": "code",
   "execution_count": null,
   "metadata": {},
   "outputs": [],
   "source": [
    "from tensorflow.keras import regularizers\n",
    "import tensorflow as tf\n",
    "import tensorflow_docs.plots\n",
    "\n",
    "import pickle\n",
    "import numpy as np\n",
    "\n",
    "from sklearn.model_selection import train_test_split\n",
    "\n",
    "import matplotlib.pyplot as plt\n",
    "\n",
    "import cv2"
   ]
  },
  {
   "cell_type": "code",
   "execution_count": null,
   "metadata": {},
   "outputs": [],
   "source": [
    "infile = open('../data/dados_2020_02_08_15_17_13_285763_863_imagens','rb')\n",
    "data = pickle.load(infile)\n",
    "infile.close()"
   ]
  },
  {
   "cell_type": "code",
   "execution_count": null,
   "metadata": {},
   "outputs": [],
   "source": [
    "input_img = [cv2.cvtColor(t[0],cv2.COLOR_BGR2GRAY) for t in data]\n",
    "label = np.array([t[1] for t in data])"
   ]
  },
  {
   "cell_type": "code",
   "execution_count": null,
   "metadata": {},
   "outputs": [],
   "source": [
    "plt.imshow(input_img[2])"
   ]
  },
  {
   "cell_type": "code",
   "execution_count": null,
   "metadata": {},
   "outputs": [],
   "source": [
    "shape = input_img[0].shape\n",
    "shape"
   ]
  },
  {
   "cell_type": "code",
   "execution_count": null,
   "metadata": {},
   "outputs": [],
   "source": [
    "label = np.where(label=='RIGHT','FORWARD',label) #BUG NO APP_ROBOT.PY JÁ CORRIGIDO"
   ]
  },
  {
   "cell_type": "code",
   "execution_count": null,
   "metadata": {},
   "outputs": [],
   "source": [
    "# label_dict = {'LEFT':0, 'RIGHT':1, 'FORWARD':2, 'BACKWARD':3}\n",
    "label_dict = {'LEFT':0, 'FORWARD':1}\n",
    "label_encoded = np.array([label_dict[l] for l in label])"
   ]
  },
  {
   "cell_type": "code",
   "execution_count": null,
   "metadata": {},
   "outputs": [],
   "source": [
    "X_train, X_test, y_train, y_test = train_test_split(input_img, label_encoded, test_size=0.1, random_state=42)"
   ]
  },
  {
   "cell_type": "code",
   "execution_count": null,
   "metadata": {},
   "outputs": [],
   "source": [
    "X_train = np.array(X_train) / 255.0\n",
    "X_test = np.array(X_test) / 255.0"
   ]
  },
  {
   "cell_type": "code",
   "execution_count": null,
   "metadata": {},
   "outputs": [],
   "source": [
    "X_train = X_train[..., tf.newaxis]\n",
    "X_test = X_test[..., tf.newaxis]"
   ]
  },
  {
   "cell_type": "code",
   "execution_count": null,
   "metadata": {},
   "outputs": [],
   "source": [
    "y_test_hot = tf.one_hot(y_test,2)\n",
    "y_train_hot = tf.one_hot(y_train,2)"
   ]
  },
  {
   "cell_type": "code",
   "execution_count": null,
   "metadata": {},
   "outputs": [],
   "source": [
    "REG = 0.01\n",
    "DROP = 0.2\n",
    "model = tf.keras.models.Sequential([\n",
    "    tf.keras.layers.Conv2D(24,(5,5),activation='relu',kernel_regularizer=regularizers.l2(REG),input_shape=(288,544,1)),\n",
    "#     tf.keras.layers.MaxPooling2D((2, 2)),\n",
    "    tf.keras.layers.Conv2D(36,(5,5),activation='relu',kernel_regularizer=regularizers.l2(REG)),\n",
    "#     tf.keras.layers.MaxPooling2D((2, 2)),\n",
    " #   tf.keras.layers.Conv2D(48,(5,5),activation='relu',kernel_regularizer=regularizers.l2(REG)),\n",
    "#     tf.keras.layers.MaxPooling2D((2, 2)),\n",
    "#    tf.keras.layers.Conv2D(64,(3,3),activation='relu',kernel_regularizer=regularizers.l2(REG)),\n",
    "#    tf.keras.layers.Conv2D(64,(3,3),activation='relu',kernel_regularizer=regularizers.l2(REG)),\n",
    "    \n",
    "    tf.keras.layers.Flatten(),\n",
    "#     tf.keras.layers.Dense(64, activation='relu',kernel_regularizer=regularizers.l2(REG)),\n",
    "#     tf.keras.layers.Dropout(DROP),\n",
    "    tf.keras.layers.Dense(100,activation='relu',kernel_regularizer=regularizers.l2(REG)),\n",
    "#     tf.keras.layers.Dropout(DROP),\n",
    "  #  tf.keras.layers.Dense(50,activation='relu',kernel_regularizer=regularizers.l2(REG)),\n",
    "#     tf.keras.layers.Dropout(DROP),\n",
    "    tf.keras.layers.Dense(10,activation='relu',kernel_regularizer=regularizers.l2(REG)),\n",
    "    tf.keras.layers.Dense(2, activation='softmax',kernel_regularizer=regularizers.l2(REG))\n",
    "])\n",
    "\n",
    "model.compile(optimizer='adam',\n",
    "              loss='sparse_categorical_crossentropy',\n",
    "              metrics=['accuracy'])"
   ]
  },
  {
   "cell_type": "code",
   "execution_count": null,
   "metadata": {},
   "outputs": [],
   "source": [
    "model.fit(X_train, y_train, validation_split=0.15, epochs=100)"
   ]
  },
  {
   "cell_type": "code",
   "execution_count": null,
   "metadata": {},
   "outputs": [],
   "source": [
    "model.evaluate(X_test, y_test,verbose=2)"
   ]
  },
  {
   "cell_type": "code",
   "execution_count": null,
   "metadata": {},
   "outputs": [],
   "source": [
    "model.save('../models/model_esquerda_10VOLTAS.h5')"
   ]
  },
  {
   "cell_type": "code",
   "execution_count": null,
   "metadata": {},
   "outputs": [],
   "source": [
    "type(X_test)"
   ]
  },
  {
   "cell_type": "code",
   "execution_count": null,
   "metadata": {},
   "outputs": [],
   "source": [
    "img = input_img[88][tf.newaxis,...,tf.newaxis] / 255.0"
   ]
  },
  {
   "cell_type": "code",
   "execution_count": null,
   "metadata": {},
   "outputs": [],
   "source": [
    "np.argmax(model.predict(img))"
   ]
  },
  {
   "cell_type": "code",
   "execution_count": null,
   "metadata": {},
   "outputs": [],
   "source": [
    "label[88]"
   ]
  },
  {
   "cell_type": "code",
   "execution_count": null,
   "metadata": {},
   "outputs": [],
   "source": []
  }
 ],
 "metadata": {
  "kernelspec": {
   "display_name": "Python 3",
   "language": "python",
   "name": "python3"
  },
  "language_info": {
   "codemirror_mode": {
    "name": "ipython",
    "version": 3
   },
   "file_extension": ".py",
   "mimetype": "text/x-python",
   "name": "python",
   "nbconvert_exporter": "python",
   "pygments_lexer": "ipython3",
   "version": "3.7.6"
  }
 },
 "nbformat": 4,
 "nbformat_minor": 4
}
